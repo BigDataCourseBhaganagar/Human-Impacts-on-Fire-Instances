{
 "cells": [
  {
   "cell_type": "markdown",
   "id": "indoor-minority",
   "metadata": {},
   "source": [
    "# Final Project: Big Data in Extreme Environments\n",
    "## Spring 2021\n",
    "### Tyler Bull"
   ]
  },
  {
   "cell_type": "markdown",
   "id": "exciting-memory",
   "metadata": {},
   "source": [
    "### 1.1  Setup and Import Relevant Packages\n",
    "##### Relevant packages include: metpy: for map plotting the data, csv: for reading csv data files, numpy: for calculations, matplotlib: for plotting data, pandas: for handling the data"
   ]
  },
  {
   "cell_type": "code",
   "execution_count": 2,
   "id": "existing-genetics",
   "metadata": {},
   "outputs": [
    {
     "ename": "ImportError",
     "evalue": "cannot import name 'dedent' from 'matplotlib.cbook' (C:\\Users\\tlubu\\anaconda3\\lib\\site-packages\\matplotlib\\cbook\\__init__.py)",
     "output_type": "error",
     "traceback": [
      "\u001b[1;31m---------------------------------------------------------------------------\u001b[0m",
      "\u001b[1;31mImportError\u001b[0m                               Traceback (most recent call last)",
      "\u001b[1;32m<ipython-input-2-a66db3384cb7>\u001b[0m in \u001b[0;36m<module>\u001b[1;34m\u001b[0m\n\u001b[0;32m      1\u001b[0m \u001b[1;31m# Import Relevant Packages\u001b[0m\u001b[1;33m\u001b[0m\u001b[1;33m\u001b[0m\u001b[1;33m\u001b[0m\u001b[0m\n\u001b[0;32m      2\u001b[0m \u001b[1;32mimport\u001b[0m \u001b[0mcsv\u001b[0m\u001b[1;33m\u001b[0m\u001b[1;33m\u001b[0m\u001b[0m\n\u001b[1;32m----> 3\u001b[1;33m \u001b[1;32mfrom\u001b[0m \u001b[0mmpl_toolkits\u001b[0m\u001b[1;33m.\u001b[0m\u001b[0mbasemap\u001b[0m \u001b[1;32mimport\u001b[0m \u001b[0mBasemap\u001b[0m\u001b[1;33m\u001b[0m\u001b[1;33m\u001b[0m\u001b[0m\n\u001b[0m\u001b[0;32m      4\u001b[0m \u001b[1;32mimport\u001b[0m \u001b[0mnumpy\u001b[0m \u001b[1;32mas\u001b[0m \u001b[0mnp\u001b[0m\u001b[1;33m\u001b[0m\u001b[1;33m\u001b[0m\u001b[0m\n\u001b[0;32m      5\u001b[0m \u001b[1;32mimport\u001b[0m \u001b[0mmatplotlib\u001b[0m\u001b[1;33m.\u001b[0m\u001b[0mpyplot\u001b[0m \u001b[1;32mas\u001b[0m \u001b[0mplt\u001b[0m\u001b[1;33m\u001b[0m\u001b[1;33m\u001b[0m\u001b[0m\n",
      "\u001b[1;32m~\\anaconda3\\lib\\site-packages\\mpl_toolkits\\basemap\\__init__.py\u001b[0m in \u001b[0;36m<module>\u001b[1;34m\u001b[0m\n\u001b[0;32m     48\u001b[0m \u001b[1;32mfrom\u001b[0m \u001b[0mmatplotlib\u001b[0m\u001b[1;33m.\u001b[0m\u001b[0mimage\u001b[0m \u001b[1;32mimport\u001b[0m \u001b[0mimread\u001b[0m\u001b[1;33m\u001b[0m\u001b[1;33m\u001b[0m\u001b[0m\n\u001b[0;32m     49\u001b[0m \u001b[1;32mimport\u001b[0m \u001b[0msys\u001b[0m\u001b[1;33m,\u001b[0m \u001b[0mos\u001b[0m\u001b[1;33m,\u001b[0m \u001b[0mmath\u001b[0m\u001b[1;33m\u001b[0m\u001b[1;33m\u001b[0m\u001b[0m\n\u001b[1;32m---> 50\u001b[1;33m \u001b[1;32mfrom\u001b[0m \u001b[1;33m.\u001b[0m\u001b[0mproj\u001b[0m \u001b[1;32mimport\u001b[0m \u001b[0mProj\u001b[0m\u001b[1;33m\u001b[0m\u001b[1;33m\u001b[0m\u001b[0m\n\u001b[0m\u001b[0;32m     51\u001b[0m \u001b[1;32mimport\u001b[0m \u001b[0mnumpy\u001b[0m \u001b[1;32mas\u001b[0m \u001b[0mnp\u001b[0m\u001b[1;33m\u001b[0m\u001b[1;33m\u001b[0m\u001b[0m\n\u001b[0;32m     52\u001b[0m \u001b[1;32mimport\u001b[0m \u001b[0mnumpy\u001b[0m\u001b[1;33m.\u001b[0m\u001b[0mma\u001b[0m \u001b[1;32mas\u001b[0m \u001b[0mma\u001b[0m\u001b[1;33m\u001b[0m\u001b[1;33m\u001b[0m\u001b[0m\n",
      "\u001b[1;32m~\\anaconda3\\lib\\site-packages\\mpl_toolkits\\basemap\\proj.py\u001b[0m in \u001b[0;36m<module>\u001b[1;34m\u001b[0m\n\u001b[0;32m      4\u001b[0m \u001b[1;32mimport\u001b[0m \u001b[0mpyproj\u001b[0m\u001b[1;33m\u001b[0m\u001b[1;33m\u001b[0m\u001b[0m\n\u001b[0;32m      5\u001b[0m \u001b[1;32mimport\u001b[0m \u001b[0mmath\u001b[0m\u001b[1;33m\u001b[0m\u001b[1;33m\u001b[0m\u001b[0m\n\u001b[1;32m----> 6\u001b[1;33m \u001b[1;32mfrom\u001b[0m \u001b[0mmatplotlib\u001b[0m\u001b[1;33m.\u001b[0m\u001b[0mcbook\u001b[0m \u001b[1;32mimport\u001b[0m \u001b[0mdedent\u001b[0m\u001b[1;33m\u001b[0m\u001b[1;33m\u001b[0m\u001b[0m\n\u001b[0m\u001b[0;32m      7\u001b[0m \u001b[1;33m\u001b[0m\u001b[0m\n\u001b[0;32m      8\u001b[0m \u001b[0m__version__\u001b[0m \u001b[1;33m=\u001b[0m \u001b[1;34m'1.2.2'\u001b[0m\u001b[1;33m\u001b[0m\u001b[1;33m\u001b[0m\u001b[0m\n",
      "\u001b[1;31mImportError\u001b[0m: cannot import name 'dedent' from 'matplotlib.cbook' (C:\\Users\\tlubu\\anaconda3\\lib\\site-packages\\matplotlib\\cbook\\__init__.py)"
     ]
    }
   ],
   "source": [
    "# Import Relevant Packages\n",
    "import csv\n",
    "from mpl_toolkits.basemap import Basemap\n",
    "import numpy as np\n",
    "import matplotlib.pyplot as plt\n",
    "from matplotlib.pyplot import cm\n",
    "from matplotlib.patches import Patch\n",
    "import pandas as pd\n",
    "import os\n",
    "from scipy.stats import linregress as reg"
   ]
  },
  {
   "cell_type": "markdown",
   "id": "insured-sunset",
   "metadata": {},
   "source": [
    "### 1.2 Import Preliminary Datasets for Preliminary Analysis\n",
    "##### The population and landmass data will be used for selecting countries that had a change in population density"
   ]
  },
  {
   "cell_type": "code",
   "execution_count": 2,
   "id": "intellectual-greensboro",
   "metadata": {},
   "outputs": [
    {
     "data": {
      "text/html": [
       "<div>\n",
       "<style scoped>\n",
       "    .dataframe tbody tr th:only-of-type {\n",
       "        vertical-align: middle;\n",
       "    }\n",
       "\n",
       "    .dataframe tbody tr th {\n",
       "        vertical-align: top;\n",
       "    }\n",
       "\n",
       "    .dataframe thead th {\n",
       "        text-align: right;\n",
       "    }\n",
       "</style>\n",
       "<table border=\"1\" class=\"dataframe\">\n",
       "  <thead>\n",
       "    <tr style=\"text-align: right;\">\n",
       "      <th></th>\n",
       "      <th>Country</th>\n",
       "      <th>Area</th>\n",
       "    </tr>\n",
       "  </thead>\n",
       "  <tbody>\n",
       "    <tr>\n",
       "      <th>0</th>\n",
       "      <td>Afghanistan</td>\n",
       "      <td>647500</td>\n",
       "    </tr>\n",
       "    <tr>\n",
       "      <th>1</th>\n",
       "      <td>Albania</td>\n",
       "      <td>28748</td>\n",
       "    </tr>\n",
       "    <tr>\n",
       "      <th>2</th>\n",
       "      <td>Algeria</td>\n",
       "      <td>2381740</td>\n",
       "    </tr>\n",
       "    <tr>\n",
       "      <th>3</th>\n",
       "      <td>American Samoa</td>\n",
       "      <td>199</td>\n",
       "    </tr>\n",
       "    <tr>\n",
       "      <th>4</th>\n",
       "      <td>Andorra</td>\n",
       "      <td>468</td>\n",
       "    </tr>\n",
       "  </tbody>\n",
       "</table>\n",
       "</div>"
      ],
      "text/plain": [
       "           Country     Area\n",
       "0     Afghanistan    647500\n",
       "1         Albania     28748\n",
       "2         Algeria   2381740\n",
       "3  American Samoa       199\n",
       "4         Andorra       468"
      ]
     },
     "execution_count": 2,
     "metadata": {},
     "output_type": "execute_result"
    }
   ],
   "source": [
    "# Import Population Data\n",
    "pop = pd.read_csv(\"Population Data.csv\")\n",
    "area = pd.read_csv(\"landmass.csv\")\n",
    "area.columns = ['Country','na','na','Area','na','na','na','na','na','na','na','na','na','na','na','na','na','na','na','na']\n",
    "area = area.drop(columns='na')\n",
    "area.head()"
   ]
  },
  {
   "cell_type": "markdown",
   "id": "silver-viewer",
   "metadata": {},
   "source": [
    "### 1.3 Format Data for Use"
   ]
  },
  {
   "cell_type": "code",
   "execution_count": 3,
   "id": "brazilian-medline",
   "metadata": {},
   "outputs": [
    {
     "data": {
      "text/html": [
       "<div>\n",
       "<style scoped>\n",
       "    .dataframe tbody tr th:only-of-type {\n",
       "        vertical-align: middle;\n",
       "    }\n",
       "\n",
       "    .dataframe tbody tr th {\n",
       "        vertical-align: top;\n",
       "    }\n",
       "\n",
       "    .dataframe thead th {\n",
       "        text-align: right;\n",
       "    }\n",
       "</style>\n",
       "<table border=\"1\" class=\"dataframe\">\n",
       "  <thead>\n",
       "    <tr style=\"text-align: right;\">\n",
       "      <th></th>\n",
       "      <th>Country Name</th>\n",
       "      <th>Country Code</th>\n",
       "      <th>2000 [YR2000]</th>\n",
       "      <th>2005 [YR2005]</th>\n",
       "      <th>2010 [YR2010]</th>\n",
       "      <th>2015 [YR2015]</th>\n",
       "      <th>2019 [YR2019]</th>\n",
       "    </tr>\n",
       "  </thead>\n",
       "  <tbody>\n",
       "    <tr>\n",
       "      <th>0</th>\n",
       "      <td>Afghanistan</td>\n",
       "      <td>AFG</td>\n",
       "      <td>20779953.0</td>\n",
       "      <td>25654277.0</td>\n",
       "      <td>29185507.0</td>\n",
       "      <td>34413603</td>\n",
       "      <td>38041754</td>\n",
       "    </tr>\n",
       "    <tr>\n",
       "      <th>1</th>\n",
       "      <td>Albania</td>\n",
       "      <td>ALB</td>\n",
       "      <td>3089027.0</td>\n",
       "      <td>3011487.0</td>\n",
       "      <td>2913021.0</td>\n",
       "      <td>2880703</td>\n",
       "      <td>2854191</td>\n",
       "    </tr>\n",
       "    <tr>\n",
       "      <th>2</th>\n",
       "      <td>Algeria</td>\n",
       "      <td>DZA</td>\n",
       "      <td>31042235.0</td>\n",
       "      <td>33149724.0</td>\n",
       "      <td>35977455.0</td>\n",
       "      <td>39728025</td>\n",
       "      <td>43053054</td>\n",
       "    </tr>\n",
       "    <tr>\n",
       "      <th>3</th>\n",
       "      <td>American Samoa</td>\n",
       "      <td>ASM</td>\n",
       "      <td>57821.0</td>\n",
       "      <td>59562.0</td>\n",
       "      <td>56079.0</td>\n",
       "      <td>55812</td>\n",
       "      <td>55312</td>\n",
       "    </tr>\n",
       "    <tr>\n",
       "      <th>4</th>\n",
       "      <td>Andorra</td>\n",
       "      <td>AND</td>\n",
       "      <td>65390.0</td>\n",
       "      <td>78867.0</td>\n",
       "      <td>84449.0</td>\n",
       "      <td>78011</td>\n",
       "      <td>77142</td>\n",
       "    </tr>\n",
       "  </tbody>\n",
       "</table>\n",
       "</div>"
      ],
      "text/plain": [
       "     Country Name Country Code  2000 [YR2000]  2005 [YR2005]  2010 [YR2010]  \\\n",
       "0     Afghanistan          AFG     20779953.0     25654277.0     29185507.0   \n",
       "1         Albania          ALB      3089027.0      3011487.0      2913021.0   \n",
       "2         Algeria          DZA     31042235.0     33149724.0     35977455.0   \n",
       "3  American Samoa          ASM        57821.0        59562.0        56079.0   \n",
       "4         Andorra          AND        65390.0        78867.0        84449.0   \n",
       "\n",
       "  2015 [YR2015] 2019 [YR2019]  \n",
       "0      34413603      38041754  \n",
       "1       2880703       2854191  \n",
       "2      39728025      43053054  \n",
       "3         55812         55312  \n",
       "4         78011         77142  "
      ]
     },
     "execution_count": 3,
     "metadata": {},
     "output_type": "execute_result"
    }
   ],
   "source": [
    "# Drop Unneeded Columns and NaN Rows\n",
    "pop = pop.drop(columns = ['Series Name','Series Code']).dropna()\n",
    "pop.head()"
   ]
  },
  {
   "cell_type": "code",
   "execution_count": 4,
   "id": "breathing-identification",
   "metadata": {},
   "outputs": [],
   "source": [
    "# Collect list of countries from the MODIS Data and area data\n",
    "file_list=os.listdir()\n",
    "file_list = [s.replace(\"modis_2000_\",\"\") for s in file_list]\n",
    "countries = [s.replace(\".csv\",\"\") for s in file_list]\n",
    "countries2 = [s.replace(\" \",\"\") for s in area.Country.tolist()]"
   ]
  },
  {
   "cell_type": "code",
   "execution_count": 5,
   "id": "absolute-navigation",
   "metadata": {},
   "outputs": [],
   "source": [
    "# Remove Countries not in the MODIS and Area data from the Population data\n",
    "pop = (pop[pop['Country Name'].isin(countries)])\n",
    "pop = (pop[pop['Country Name'].isin(countries2)])\n",
    "\n",
    "# Remove misfit data '..'\n",
    "pop = (pop[pop['2015 [YR2015]'] != '..'])"
   ]
  },
  {
   "cell_type": "markdown",
   "id": "automated-giving",
   "metadata": {},
   "source": [
    "### 2.1 Perform Initial Calculations from Data\n",
    "##### Determine countries with the larges percent change in their populations, both positive and negative. Furthermore determine the 5 countries with the least change over the time basis. Not all of these categories have equivalent quantity, as a relitively few countries had low change in population, or a decrease in population of > 8 %."
   ]
  },
  {
   "cell_type": "code",
   "execution_count": 6,
   "id": "christian-flexibility",
   "metadata": {},
   "outputs": [],
   "source": [
    "# Calculate Percent change across time domain\n",
    "diff = 100*np.divide(pop[\"2019 [YR2019]\"].astype('float') - pop[\"2000 [YR2000]\"].astype('float'),pop[\"2019 [YR2019]\"].astype('float'))\n",
    "pop[\"Pct\"]= diff\n",
    "pop[\"absPct\"] = abs(diff)"
   ]
  },
  {
   "cell_type": "code",
   "execution_count": 7,
   "id": "clinical-product",
   "metadata": {},
   "outputs": [],
   "source": [
    "# Create new dataframes with maximum increase, maximum decrease and minimum change.\n",
    "# Add the Area Column with Areas of the Countries"
   ]
  },
  {
   "cell_type": "markdown",
   "id": "naked-designation",
   "metadata": {},
   "source": [
    "### 2.1.1 Find the 10 countries with the highest increase in population from 2000 - 2015"
   ]
  },
  {
   "cell_type": "code",
   "execution_count": 114,
   "id": "beautiful-sudan",
   "metadata": {},
   "outputs": [
    {
     "data": {
      "text/html": [
       "<div>\n",
       "<style scoped>\n",
       "    .dataframe tbody tr th:only-of-type {\n",
       "        vertical-align: middle;\n",
       "    }\n",
       "\n",
       "    .dataframe tbody tr th {\n",
       "        vertical-align: top;\n",
       "    }\n",
       "\n",
       "    .dataframe thead th {\n",
       "        text-align: right;\n",
       "    }\n",
       "</style>\n",
       "<table border=\"1\" class=\"dataframe\">\n",
       "  <thead>\n",
       "    <tr style=\"text-align: right;\">\n",
       "      <th></th>\n",
       "      <th>Country</th>\n",
       "      <th>Code</th>\n",
       "      <th>2000</th>\n",
       "      <th>2005</th>\n",
       "      <th>2010</th>\n",
       "      <th>2015</th>\n",
       "      <th>2019</th>\n",
       "      <th>Pct</th>\n",
       "      <th>Area</th>\n",
       "    </tr>\n",
       "  </thead>\n",
       "  <tbody>\n",
       "    <tr>\n",
       "      <th>158</th>\n",
       "      <td>Qatar</td>\n",
       "      <td>QAT</td>\n",
       "      <td>592468.0</td>\n",
       "      <td>865416.0</td>\n",
       "      <td>1856327.0</td>\n",
       "      <td>2565710</td>\n",
       "      <td>2832067</td>\n",
       "      <td>79.080015</td>\n",
       "      <td>11437.0</td>\n",
       "    </tr>\n",
       "    <tr>\n",
       "      <th>147</th>\n",
       "      <td>Oman</td>\n",
       "      <td>OMN</td>\n",
       "      <td>2267973.0</td>\n",
       "      <td>2511251.0</td>\n",
       "      <td>3041434.0</td>\n",
       "      <td>4267348</td>\n",
       "      <td>4974986</td>\n",
       "      <td>54.412475</td>\n",
       "      <td>212460.0</td>\n",
       "    </tr>\n",
       "    <tr>\n",
       "      <th>142</th>\n",
       "      <td>Niger</td>\n",
       "      <td>NER</td>\n",
       "      <td>11331557.0</td>\n",
       "      <td>13624467.0</td>\n",
       "      <td>16464025.0</td>\n",
       "      <td>20001663</td>\n",
       "      <td>23310715</td>\n",
       "      <td>51.389063</td>\n",
       "      <td>1267000.0</td>\n",
       "    </tr>\n",
       "    <tr>\n",
       "      <th>105</th>\n",
       "      <td>Kuwait</td>\n",
       "      <td>KWT</td>\n",
       "      <td>2045123.0</td>\n",
       "      <td>2270198.0</td>\n",
       "      <td>2991884.0</td>\n",
       "      <td>3835591</td>\n",
       "      <td>4207083</td>\n",
       "      <td>51.388575</td>\n",
       "      <td>17820.0</td>\n",
       "    </tr>\n",
       "    <tr>\n",
       "      <th>98</th>\n",
       "      <td>Jordan</td>\n",
       "      <td>JOR</td>\n",
       "      <td>5122493.0</td>\n",
       "      <td>5765635.0</td>\n",
       "      <td>7261539.0</td>\n",
       "      <td>9266575</td>\n",
       "      <td>10101694</td>\n",
       "      <td>49.290753</td>\n",
       "      <td>92300.0</td>\n",
       "    </tr>\n",
       "  </tbody>\n",
       "</table>\n",
       "</div>"
      ],
      "text/plain": [
       "    Country Code        2000        2005        2010      2015      2019  \\\n",
       "158   Qatar  QAT    592468.0    865416.0   1856327.0   2565710   2832067   \n",
       "147    Oman  OMN   2267973.0   2511251.0   3041434.0   4267348   4974986   \n",
       "142   Niger  NER  11331557.0  13624467.0  16464025.0  20001663  23310715   \n",
       "105  Kuwait  KWT   2045123.0   2270198.0   2991884.0   3835591   4207083   \n",
       "98   Jordan  JOR   5122493.0   5765635.0   7261539.0   9266575  10101694   \n",
       "\n",
       "           Pct       Area  \n",
       "158  79.080015    11437.0  \n",
       "147  54.412475   212460.0  \n",
       "142  51.389063  1267000.0  \n",
       "105  51.388575    17820.0  \n",
       "98   49.290753    92300.0  "
      ]
     },
     "execution_count": 114,
     "metadata": {},
     "output_type": "execute_result"
    }
   ],
   "source": [
    "maxPos = pop.nlargest(10,'Pct')\n",
    "maxPos.columns = ['Country','Code','2000','2005','2010','2015','2019','Pct','Area']\n",
    "a = maxPos.Country.tolist()\n",
    "a = [sub + \" \" for sub in a]\n",
    "b=[]\n",
    "for s in a:\n",
    "    b = np.append(b,area.Area.loc[area.Country == s].values.item())\n",
    "maxPos.Area = b\n",
    "maxPos.head()"
   ]
  },
  {
   "cell_type": "markdown",
   "id": "french-lender",
   "metadata": {},
   "source": [
    "### 2.1.2 Find the 7 countries with the highest decrease in population from 2000 - 2015\n",
    "##### Only 7 selected because the 8th highest country decreased by less than 5%."
   ]
  },
  {
   "cell_type": "code",
   "execution_count": 115,
   "id": "graphic-preliminary",
   "metadata": {},
   "outputs": [
    {
     "data": {
      "text/html": [
       "<div>\n",
       "<style scoped>\n",
       "    .dataframe tbody tr th:only-of-type {\n",
       "        vertical-align: middle;\n",
       "    }\n",
       "\n",
       "    .dataframe tbody tr th {\n",
       "        vertical-align: top;\n",
       "    }\n",
       "\n",
       "    .dataframe thead th {\n",
       "        text-align: right;\n",
       "    }\n",
       "</style>\n",
       "<table border=\"1\" class=\"dataframe\">\n",
       "  <thead>\n",
       "    <tr style=\"text-align: right;\">\n",
       "      <th></th>\n",
       "      <th>Country</th>\n",
       "      <th>Code</th>\n",
       "      <th>2000</th>\n",
       "      <th>2005</th>\n",
       "      <th>2010</th>\n",
       "      <th>2015</th>\n",
       "      <th>2019</th>\n",
       "      <th>Pct</th>\n",
       "      <th>Area</th>\n",
       "    </tr>\n",
       "  </thead>\n",
       "  <tbody>\n",
       "    <tr>\n",
       "      <th>29</th>\n",
       "      <td>Bulgaria</td>\n",
       "      <td>BGR</td>\n",
       "      <td>8170172.0</td>\n",
       "      <td>7658972.0</td>\n",
       "      <td>7395599.0</td>\n",
       "      <td>7177991</td>\n",
       "      <td>6975761</td>\n",
       "      <td>-17.122304</td>\n",
       "      <td>110910.0</td>\n",
       "    </tr>\n",
       "    <tr>\n",
       "      <th>159</th>\n",
       "      <td>Romania</td>\n",
       "      <td>ROU</td>\n",
       "      <td>22442971.0</td>\n",
       "      <td>21319685.0</td>\n",
       "      <td>20246871.0</td>\n",
       "      <td>19815616</td>\n",
       "      <td>19366221</td>\n",
       "      <td>-15.887199</td>\n",
       "      <td>237500.0</td>\n",
       "    </tr>\n",
       "    <tr>\n",
       "      <th>202</th>\n",
       "      <td>Ukraine</td>\n",
       "      <td>UKR</td>\n",
       "      <td>49176500.0</td>\n",
       "      <td>47105171.0</td>\n",
       "      <td>45870741.0</td>\n",
       "      <td>45154036</td>\n",
       "      <td>44386203</td>\n",
       "      <td>-10.792311</td>\n",
       "      <td>603700.0</td>\n",
       "    </tr>\n",
       "    <tr>\n",
       "      <th>47</th>\n",
       "      <td>Croatia</td>\n",
       "      <td>HRV</td>\n",
       "      <td>4468302.0</td>\n",
       "      <td>4310145.0</td>\n",
       "      <td>4295427.0</td>\n",
       "      <td>4203604</td>\n",
       "      <td>4065253</td>\n",
       "      <td>-9.914487</td>\n",
       "      <td>56542.0</td>\n",
       "    </tr>\n",
       "    <tr>\n",
       "      <th>128</th>\n",
       "      <td>Moldova</td>\n",
       "      <td>MDA</td>\n",
       "      <td>2923783.0</td>\n",
       "      <td>2888111.0</td>\n",
       "      <td>2861487.0</td>\n",
       "      <td>2834530</td>\n",
       "      <td>2663251</td>\n",
       "      <td>-9.782480</td>\n",
       "      <td>33843.0</td>\n",
       "    </tr>\n",
       "    <tr>\n",
       "      <th>71</th>\n",
       "      <td>Georgia</td>\n",
       "      <td>GEO</td>\n",
       "      <td>4077131.0</td>\n",
       "      <td>3902469.0</td>\n",
       "      <td>3786695.0</td>\n",
       "      <td>3725276</td>\n",
       "      <td>3720161</td>\n",
       "      <td>-9.595552</td>\n",
       "      <td>69700.0</td>\n",
       "    </tr>\n",
       "    <tr>\n",
       "      <th>167</th>\n",
       "      <td>Serbia</td>\n",
       "      <td>SRB</td>\n",
       "      <td>7516346.0</td>\n",
       "      <td>7440769.0</td>\n",
       "      <td>7291436.0</td>\n",
       "      <td>7095383</td>\n",
       "      <td>6945235</td>\n",
       "      <td>-8.223062</td>\n",
       "      <td>88361.0</td>\n",
       "    </tr>\n",
       "  </tbody>\n",
       "</table>\n",
       "</div>"
      ],
      "text/plain": [
       "      Country Code        2000        2005        2010      2015      2019  \\\n",
       "29   Bulgaria  BGR   8170172.0   7658972.0   7395599.0   7177991   6975761   \n",
       "159   Romania  ROU  22442971.0  21319685.0  20246871.0  19815616  19366221   \n",
       "202   Ukraine  UKR  49176500.0  47105171.0  45870741.0  45154036  44386203   \n",
       "47    Croatia  HRV   4468302.0   4310145.0   4295427.0   4203604   4065253   \n",
       "128   Moldova  MDA   2923783.0   2888111.0   2861487.0   2834530   2663251   \n",
       "71    Georgia  GEO   4077131.0   3902469.0   3786695.0   3725276   3720161   \n",
       "167    Serbia  SRB   7516346.0   7440769.0   7291436.0   7095383   6945235   \n",
       "\n",
       "           Pct      Area  \n",
       "29  -17.122304  110910.0  \n",
       "159 -15.887199  237500.0  \n",
       "202 -10.792311  603700.0  \n",
       "47   -9.914487   56542.0  \n",
       "128  -9.782480   33843.0  \n",
       "71   -9.595552   69700.0  \n",
       "167  -8.223062   88361.0  "
      ]
     },
     "execution_count": 115,
     "metadata": {},
     "output_type": "execute_result"
    }
   ],
   "source": [
    "maxNeg = pop.nsmallest(7,'Pct')\n",
    "maxNeg.columns = ['Country','Code','2000','2005','2010','2015','2019','Pct','Area']\n",
    "maxNeg.head(15)\n",
    "a = maxNeg.Country.tolist()\n",
    "a = [sub + \" \" for sub in a]\n",
    "b=[]\n",
    "for s in a:\n",
    "    b = np.append(b,area.Area.loc[area.Country == s].values.item())\n",
    "maxNeg.Area = b\n",
    "maxNeg.head(15)"
   ]
  },
  {
   "cell_type": "markdown",
   "id": "economic-decision",
   "metadata": {},
   "source": [
    "### 2.1.3 Find the 5 countries with the least change in population from 2000 - 2015\n",
    "##### Only 5 selected because the 6th country changed by greater than 2%"
   ]
  },
  {
   "cell_type": "code",
   "execution_count": 10,
   "id": "worse-decline",
   "metadata": {},
   "outputs": [
    {
     "data": {
      "text/html": [
       "<div>\n",
       "<style scoped>\n",
       "    .dataframe tbody tr th:only-of-type {\n",
       "        vertical-align: middle;\n",
       "    }\n",
       "\n",
       "    .dataframe tbody tr th {\n",
       "        vertical-align: top;\n",
       "    }\n",
       "\n",
       "    .dataframe thead th {\n",
       "        text-align: right;\n",
       "    }\n",
       "</style>\n",
       "<table border=\"1\" class=\"dataframe\">\n",
       "  <thead>\n",
       "    <tr style=\"text-align: right;\">\n",
       "      <th></th>\n",
       "      <th>Country</th>\n",
       "      <th>Code</th>\n",
       "      <th>2000</th>\n",
       "      <th>2005</th>\n",
       "      <th>2010</th>\n",
       "      <th>2015</th>\n",
       "      <th>2019</th>\n",
       "      <th>Pct</th>\n",
       "      <th>Area</th>\n",
       "    </tr>\n",
       "  </thead>\n",
       "  <tbody>\n",
       "    <tr>\n",
       "      <th>156</th>\n",
       "      <td>Portugal</td>\n",
       "      <td>PRT</td>\n",
       "      <td>10289898.0</td>\n",
       "      <td>10503330.0</td>\n",
       "      <td>10573100.0</td>\n",
       "      <td>10358076</td>\n",
       "      <td>10286263</td>\n",
       "      <td>-0.035338</td>\n",
       "      <td>92391.0</td>\n",
       "    </tr>\n",
       "    <tr>\n",
       "      <th>97</th>\n",
       "      <td>Japan</td>\n",
       "      <td>JPN</td>\n",
       "      <td>126843000.0</td>\n",
       "      <td>127773000.0</td>\n",
       "      <td>128070000.0</td>\n",
       "      <td>127141000</td>\n",
       "      <td>126264931</td>\n",
       "      <td>-0.457822</td>\n",
       "      <td>377835.0</td>\n",
       "    </tr>\n",
       "    <tr>\n",
       "      <th>155</th>\n",
       "      <td>Poland</td>\n",
       "      <td>POL</td>\n",
       "      <td>38258629.0</td>\n",
       "      <td>38165445.0</td>\n",
       "      <td>38042794.0</td>\n",
       "      <td>37986412</td>\n",
       "      <td>37965475</td>\n",
       "      <td>-0.772159</td>\n",
       "      <td>312685.0</td>\n",
       "    </tr>\n",
       "    <tr>\n",
       "      <th>75</th>\n",
       "      <td>Greece</td>\n",
       "      <td>GRC</td>\n",
       "      <td>10805808.0</td>\n",
       "      <td>10987314.0</td>\n",
       "      <td>11121341.0</td>\n",
       "      <td>10820883</td>\n",
       "      <td>10717169</td>\n",
       "      <td>-0.827075</td>\n",
       "      <td>131940.0</td>\n",
       "    </tr>\n",
       "    <tr>\n",
       "      <th>72</th>\n",
       "      <td>Germany</td>\n",
       "      <td>DEU</td>\n",
       "      <td>82211508.0</td>\n",
       "      <td>82469422.0</td>\n",
       "      <td>81776930.0</td>\n",
       "      <td>81686611</td>\n",
       "      <td>83092962</td>\n",
       "      <td>1.060805</td>\n",
       "      <td>357021.0</td>\n",
       "    </tr>\n",
       "  </tbody>\n",
       "</table>\n",
       "</div>"
      ],
      "text/plain": [
       "      Country Code         2000         2005         2010       2015  \\\n",
       "156  Portugal  PRT   10289898.0   10503330.0   10573100.0   10358076   \n",
       "97      Japan  JPN  126843000.0  127773000.0  128070000.0  127141000   \n",
       "155    Poland  POL   38258629.0   38165445.0   38042794.0   37986412   \n",
       "75     Greece  GRC   10805808.0   10987314.0   11121341.0   10820883   \n",
       "72    Germany  DEU   82211508.0   82469422.0   81776930.0   81686611   \n",
       "\n",
       "          2019       Pct      Area  \n",
       "156   10286263 -0.035338   92391.0  \n",
       "97   126264931 -0.457822  377835.0  \n",
       "155   37965475 -0.772159  312685.0  \n",
       "75    10717169 -0.827075  131940.0  \n",
       "72    83092962  1.060805  357021.0  "
      ]
     },
     "execution_count": 10,
     "metadata": {},
     "output_type": "execute_result"
    }
   ],
   "source": [
    "minChg = pop.nsmallest(5,'absPct')\n",
    "minChg.columns = ['Country','Code','2000','2005','2010','2015','2019','Pct','Area']\n",
    "minChg.head(15)\n",
    "a = minChg.Country.tolist()\n",
    "a = [sub + \" \" for sub in a]\n",
    "b=[]\n",
    "for s in a:\n",
    "    b = np.append(b,area.Area.loc[area.Country == s].values.item())\n",
    "minChg.Area = b\n",
    "minChg.head(15)"
   ]
  },
  {
   "cell_type": "markdown",
   "id": "prime-protest",
   "metadata": {},
   "source": [
    "### 3.1 Import Fire Data of the Selected Countries for All Years\n",
    "##### First step of importing the relevant datasets for analysis from the fire data. A few functions are created to assist in handling the datasets."
   ]
  },
  {
   "cell_type": "code",
   "execution_count": 11,
   "id": "prompt-jewelry",
   "metadata": {},
   "outputs": [],
   "source": [
    "# Extracting the list of countries for import\n",
    "maxPosList = maxPos['Country'].tolist()\n",
    "maxNegList = maxNeg['Country'].tolist()\n",
    "minChgList = minChg['Country'].tolist()"
   ]
  },
  {
   "cell_type": "code",
   "execution_count": 12,
   "id": "subsequent-passport",
   "metadata": {},
   "outputs": [],
   "source": [
    "def import_fire_data(list):\n",
    "    for m in list:\n",
    "        for n in [2000, 2005, 2010, 2015, 2019]:\n",
    "            filename = 'modis_'+str(n)+'_'+str(m)+\".csv\"\n",
    "            globals()[str(m)+str(n)] = pd.read_csv(str(filename))\n",
    "            globals()[str(m)+str(n)] = globals()[str(m)+str(n)].drop(columns = ['scan','track','instrument','satellite','version','frp','type','daynight']).dropna()"
   ]
  },
  {
   "cell_type": "code",
   "execution_count": 77,
   "id": "intelligent-serial",
   "metadata": {},
   "outputs": [],
   "source": [
    "# use the functions to import the data\n",
    "import_fire_data(maxPosList)\n",
    "import_fire_data(maxNegList)\n",
    "import_fire_data(minChgList)"
   ]
  },
  {
   "cell_type": "markdown",
   "id": "above-blade",
   "metadata": {},
   "source": [
    "### 3.2 Examine basic size and shape of the datasets\n",
    "##### Total Countries: 22, Total Datapoints in Population Data: 132, Total Datapoints in Fire Data [7 x n shape]: 719460\n",
    "##### Relevant variables: Area, Population, Latitude, Longitude, Acquisition Date, Acquisition Time, Confidence, Brightness"
   ]
  },
  {
   "cell_type": "code",
   "execution_count": 109,
   "id": "tough-receipt",
   "metadata": {},
   "outputs": [],
   "source": [
    "# A function which will be used frequently, loops through all years and countries associated with the\n",
    "# lists: maxPosList, maxNegList, minChgList to do various operations on these sets. \n",
    "# Walking function is redfined as needed in this case, it calulates length\n",
    "def walkingFunction(m,n,dataset):\n",
    "    return \n",
    "\n",
    "def loopAllSets(list1,emptyarray):\n",
    "    for m in list1:\n",
    "        for n in [2000, 2005, 2010, 2015, 2019]:\n",
    "            emptyarray = np.vstack([emptyarray,walkingFunction(m,n,globals()[str(m)+str(n)])])\n",
    "    data = np.delete(emptyarray,0,0)\n",
    "    return data"
   ]
  },
  {
   "cell_type": "code",
   "execution_count": 110,
   "id": "instant-affiliate",
   "metadata": {},
   "outputs": [
    {
     "data": {
      "text/html": [
       "<div>\n",
       "<style scoped>\n",
       "    .dataframe tbody tr th:only-of-type {\n",
       "        vertical-align: middle;\n",
       "    }\n",
       "\n",
       "    .dataframe tbody tr th {\n",
       "        vertical-align: top;\n",
       "    }\n",
       "\n",
       "    .dataframe thead th {\n",
       "        text-align: right;\n",
       "    }\n",
       "</style>\n",
       "<table border=\"1\" class=\"dataframe\">\n",
       "  <thead>\n",
       "    <tr style=\"text-align: right;\">\n",
       "      <th></th>\n",
       "      <th>latitude</th>\n",
       "      <th>longitude</th>\n",
       "      <th>brightness</th>\n",
       "      <th>acq_date</th>\n",
       "      <th>acq_time</th>\n",
       "      <th>confidence</th>\n",
       "      <th>bright_t31</th>\n",
       "    </tr>\n",
       "  </thead>\n",
       "  <tbody>\n",
       "    <tr>\n",
       "      <th>0</th>\n",
       "      <td>40.5316</td>\n",
       "      <td>141.5008</td>\n",
       "      <td>325.4</td>\n",
       "      <td>2000-11-03</td>\n",
       "      <td>1232</td>\n",
       "      <td>100</td>\n",
       "      <td>281.2</td>\n",
       "    </tr>\n",
       "    <tr>\n",
       "      <th>1</th>\n",
       "      <td>40.5350</td>\n",
       "      <td>141.5052</td>\n",
       "      <td>313.4</td>\n",
       "      <td>2000-11-04</td>\n",
       "      <td>209</td>\n",
       "      <td>0</td>\n",
       "      <td>289.5</td>\n",
       "    </tr>\n",
       "    <tr>\n",
       "      <th>2</th>\n",
       "      <td>34.8174</td>\n",
       "      <td>137.0758</td>\n",
       "      <td>304.3</td>\n",
       "      <td>2000-11-04</td>\n",
       "      <td>211</td>\n",
       "      <td>49</td>\n",
       "      <td>292.7</td>\n",
       "    </tr>\n",
       "    <tr>\n",
       "      <th>3</th>\n",
       "      <td>34.6329</td>\n",
       "      <td>137.1822</td>\n",
       "      <td>301.9</td>\n",
       "      <td>2000-11-04</td>\n",
       "      <td>211</td>\n",
       "      <td>43</td>\n",
       "      <td>291.1</td>\n",
       "    </tr>\n",
       "    <tr>\n",
       "      <th>4</th>\n",
       "      <td>34.1686</td>\n",
       "      <td>131.2222</td>\n",
       "      <td>304.2</td>\n",
       "      <td>2000-11-04</td>\n",
       "      <td>211</td>\n",
       "      <td>57</td>\n",
       "      <td>294.0</td>\n",
       "    </tr>\n",
       "  </tbody>\n",
       "</table>\n",
       "</div>"
      ],
      "text/plain": [
       "   latitude  longitude  brightness    acq_date  acq_time  confidence  \\\n",
       "0   40.5316   141.5008       325.4  2000-11-03      1232         100   \n",
       "1   40.5350   141.5052       313.4  2000-11-04       209           0   \n",
       "2   34.8174   137.0758       304.3  2000-11-04       211          49   \n",
       "3   34.6329   137.1822       301.9  2000-11-04       211          43   \n",
       "4   34.1686   131.2222       304.2  2000-11-04       211          57   \n",
       "\n",
       "   bright_t31  \n",
       "0       281.2  \n",
       "1       289.5  \n",
       "2       292.7  \n",
       "3       291.1  \n",
       "4       294.0  "
      ]
     },
     "execution_count": 110,
     "metadata": {},
     "output_type": "execute_result"
    }
   ],
   "source": [
    "# show header information of one of the datasets, these are the columns that will be considered.\n",
    "Japan2000.head()"
   ]
  },
  {
   "cell_type": "code",
   "execution_count": 111,
   "id": "dimensional-concentrate",
   "metadata": {},
   "outputs": [],
   "source": [
    "# define the walking function as a length calculation\n",
    "def walkingFunction(m,n,dataset):\n",
    "    return np.array([m, n, len(dataset)])\n"
   ]
  },
  {
   "cell_type": "code",
   "execution_count": 112,
   "id": "polished-celebrity",
   "metadata": {},
   "outputs": [
    {
     "data": {
      "image/png": "[encoded data removed]",
      "text/plain": [
       "<Figure size 1080x432 with 3 Axes>"
      ]
     },
     "metadata": {
      "needs_background": "light"
     },
     "output_type": "display_data"
    }
   ],
   "source": [
    "# Create stacked plots of the lengths for each dataset\n",
    "count = -1\n",
    "totalLength = 0\n",
    "fig, axs = plt.subplots(1,3,figsize = (15,6))\n",
    "for listname in ['maxPosList','maxNegList','minChgList']:\n",
    "    colors = iter(cm.tab20(np.linspace(0,1,10)))\n",
    "    count = count +1\n",
    "    # caclulate lengths of all the datasets and the total length of the data\n",
    "    lengthData = loopAllSets(eval(listname),np.array([1,1,1]))\n",
    "    totalLength = totalLength + lengthData[:,2].astype('float').sum()\n",
    "    countries = np.unique(lengthData[:,0])\n",
    "    A = np.array([0,0,0,0,0])\n",
    "    B = np.array([0,0,0,0,0])\n",
    "    axs[count].title.set_text(listname+' data lengths')\n",
    "    axs[0].set_ylabel('Length')\n",
    "    axs[1].set_xlabel('Year')\n",
    "    axs[count].grid()\n",
    "    handles = []\n",
    "    labels = []\n",
    "    for intg in countries:\n",
    "        B = A+B\n",
    "        dat = lengthData[lengthData[:,0] == intg]\n",
    "        col = next(colors)\n",
    "        A = dat[:,2].astype('float')\n",
    "        l1 = axs[count].bar(dat[:,1],A,color=col,bottom = B)\n",
    "        handles.append(Patch(facecolor = col))\n",
    "        labels.append(intg)\n",
    "    axs[count].legend(handles,labels,loc='upper right')"
   ]
  },
  {
   "cell_type": "code",
   "execution_count": 113,
   "id": "through-impossible",
   "metadata": {
    "scrolled": true
   },
   "outputs": [
    {
     "data": {
      "text/plain": [
       "719460.0"
      ]
     },
     "execution_count": 113,
     "metadata": {},
     "output_type": "execute_result"
    }
   ],
   "source": [
    "# Determine the total length of all the data considered \n",
    "totalLength"
   ]
  },
  {
   "cell_type": "code",
   "execution_count": 141,
   "id": "immune-lingerie",
   "metadata": {},
   "outputs": [],
   "source": [
    "BBox = ((Japan2005.longitude.min(),   Japan2005.longitude.max(),      \n",
    "         Japan2005.latitude.min(), Japan2005.latitude.max()))"
   ]
  },
  {
   "cell_type": "code",
   "execution_count": 171,
   "id": "vocal-poetry",
   "metadata": {},
   "outputs": [
    {
     "data": {
      "text/plain": [
       "<matplotlib.collections.PathCollection at 0x1fa1140c580>"
      ]
     },
     "execution_count": 171,
     "metadata": {},
     "output_type": "execute_result"
    },
    {
     "data": {
      "image/png": "[encoded data removed]",
      "text/plain": [
       "<Figure size 720x720 with 1 Axes>"
      ]
     },
     "metadata": {
      "needs_background": "light"
     },
     "output_type": "display_data"
    }
   ],
   "source": [
    "fig, ax = plt.subplots(figsize = (10,10))\n",
    "ax.scatter(Japan2005.longitude, Japan2005.latitude)"
   ]
  },
  {
   "cell_type": "code",
   "execution_count": 179,
   "id": "single-cloud",
   "metadata": {},
   "outputs": [],
   "source": []
  },
  {
   "cell_type": "code",
   "execution_count": 185,
   "id": "annoying-latvia",
   "metadata": {},
   "outputs": [
    {
     "data": {
      "text/html": [
       "<div style=\"width:100%;\"><div style=\"position:relative;width:100%;height:0;padding-bottom:60%;\"><span style=\"color:#565656\">Make this Notebook Trusted to load map: File -> Trust Notebook</span><iframe src=\"about:blank\" style=\"position:absolute;width:100%;height:100%;left:0;top:0;border:none !important;\" data-html=%3C%21DOCTYPE%20html%3E%0A%3Chead%3E%20%20%20%20%0A%20%20%20%20%3Cmeta%20http-equiv%3D%22content-type%22%20content%3D%22text/html%3B%20charset%3DUTF-8%22%20/%3E%0A%20%20%20%20%0A%20%20%20%20%20%20%20%20%3Cscript%3E%0A%20%20%20%20%20%20%20%20%20%20%20%20L_NO_TOUCH%20%3D%20false%3B%0A%20%20%20%20%20%20%20%20%20%20%20%20L_DISABLE_3D%20%3D%20false%3B%0A%20%20%20%20%20%20%20%20%3C/script%3E%0A%20%20%20%20%0A%20%20%20%20%3Cstyle%3Ehtml%2C%20body%20%7Bwidth%3A%20100%25%3Bheight%3A%20100%25%3Bmargin%3A%200%3Bpadding%3A%200%3B%7D%3C/style%3E%0A%20%20%20%20%3Cstyle%3E%23map%20%7Bposition%3Aabsolute%3Btop%3A0%3Bbottom%3A0%3Bright%3A0%3Bleft%3A0%3B%7D%3C/style%3E%0A%20%20%20%20%3Cscript%20src%3D%22https%3A//cdn.jsdelivr.net/npm/leaflet%401.6.0/dist/leaflet.js%22%3E%3C/script%3E%0A%20%20%20%20%3Cscript%20src%3D%22https%3A//code.jquery.com/jquery-1.12.4.min.js%22%3E%3C/script%3E%0A%20%20%20%20%3Cscript%20src%3D%22https%3A//maxcdn.bootstrapcdn.com/bootstrap/3.2.0/js/bootstrap.min.js%22%3E%3C/script%3E%0A%20%20%20%20%3Cscript%20src%3D%22https%3A//cdnjs.cloudflare.com/ajax/libs/Leaflet.awesome-markers/2.0.2/leaflet.awesome-markers.js%22%3E%3C/script%3E%0A%20%20%20%20%3Clink%20rel%3D%22stylesheet%22%20href%3D%22https%3A//cdn.jsdelivr.net/npm/leaflet%401.6.0/dist/leaflet.css%22/%3E%0A%20%20%20%20%3Clink%20rel%3D%22stylesheet%22%20href%3D%22https%3A//maxcdn.bootstrapcdn.com/bootstrap/3.2.0/css/bootstrap.min.css%22/%3E%0A%20%20%20%20%3Clink%20rel%3D%22stylesheet%22%20href%3D%22https%3A//maxcdn.bootstrapcdn.com/bootstrap/3.2.0/css/bootstrap-theme.min.css%22/%3E%0A%20%20%20%20%3Clink%20rel%3D%22stylesheet%22%20href%3D%22https%3A//maxcdn.bootstrapcdn.com/font-awesome/4.6.3/css/font-awesome.min.css%22/%3E%0A%20%20%20%20%3Clink%20rel%3D%22stylesheet%22%20href%3D%22https%3A//cdnjs.cloudflare.com/ajax/libs/Leaflet.awesome-markers/2.0.2/leaflet.awesome-markers.css%22/%3E%0A%20%20%20%20%3Clink%20rel%3D%22stylesheet%22%20href%3D%22https%3A//cdn.jsdelivr.net/gh/python-visualization/folium/folium/templates/leaflet.awesome.rotate.min.css%22/%3E%0A%20%20%20%20%0A%20%20%20%20%20%20%20%20%20%20%20%20%3Cmeta%20name%3D%22viewport%22%20content%3D%22width%3Ddevice-width%2C%0A%20%20%20%20%20%20%20%20%20%20%20%20%20%20%20%20initial-scale%3D1.0%2C%20maximum-scale%3D1.0%2C%20user-scalable%3Dno%22%20/%3E%0A%20%20%20%20%20%20%20%20%20%20%20%20%3Cstyle%3E%0A%20%20%20%20%20%20%20%20%20%20%20%20%20%20%20%20%23map_6f2e4c8ad10141ae854eb9545516bb4e%20%7B%0A%20%20%20%20%20%20%20%20%20%20%20%20%20%20%20%20%20%20%20%20position%3A%20relative%3B%0A%20%20%20%20%20%20%20%20%20%20%20%20%20%20%20%20%20%20%20%20width%3A%20500.0px%3B%0A%20%20%20%20%20%20%20%20%20%20%20%20%20%20%20%20%20%20%20%20height%3A%20500.0px%3B%0A%20%20%20%20%20%20%20%20%20%20%20%20%20%20%20%20%20%20%20%20left%3A%200.0%25%3B%0A%20%20%20%20%20%20%20%20%20%20%20%20%20%20%20%20%20%20%20%20top%3A%200.0%25%3B%0A%20%20%20%20%20%20%20%20%20%20%20%20%20%20%20%20%7D%0A%20%20%20%20%20%20%20%20%20%20%20%20%3C/style%3E%0A%20%20%20%20%20%20%20%20%0A%3C/head%3E%0A%3Cbody%3E%20%20%20%20%0A%20%20%20%20%0A%20%20%20%20%20%20%20%20%20%20%20%20%3Cdiv%20class%3D%22folium-map%22%20id%3D%22map_6f2e4c8ad10141ae854eb9545516bb4e%22%20%3E%3C/div%3E%0A%20%20%20%20%20%20%20%20%0A%3C/body%3E%0A%3Cscript%3E%20%20%20%20%0A%20%20%20%20%0A%20%20%20%20%20%20%20%20%20%20%20%20var%20map_6f2e4c8ad10141ae854eb9545516bb4e%20%3D%20L.map%28%0A%20%20%20%20%20%20%20%20%20%20%20%20%20%20%20%20%22map_6f2e4c8ad10141ae854eb9545516bb4e%22%2C%0A%20%20%20%20%20%20%20%20%20%20%20%20%20%20%20%20%7B%0A%20%20%20%20%20%20%20%20%20%20%20%20%20%20%20%20%20%20%20%20center%3A%20%5B45.523%2C%20-122.675%5D%2C%0A%20%20%20%20%20%20%20%20%20%20%20%20%20%20%20%20%20%20%20%20crs%3A%20L.CRS.EPSG3857%2C%0A%20%20%20%20%20%20%20%20%20%20%20%20%20%20%20%20%20%20%20%20zoom%3A%2010%2C%0A%20%20%20%20%20%20%20%20%20%20%20%20%20%20%20%20%20%20%20%20zoomControl%3A%20true%2C%0A%20%20%20%20%20%20%20%20%20%20%20%20%20%20%20%20%20%20%20%20preferCanvas%3A%20false%2C%0A%20%20%20%20%20%20%20%20%20%20%20%20%20%20%20%20%7D%0A%20%20%20%20%20%20%20%20%20%20%20%20%29%3B%0A%0A%20%20%20%20%20%20%20%20%20%20%20%20%0A%0A%20%20%20%20%20%20%20%20%0A%20%20%20%20%0A%20%20%20%20%20%20%20%20%20%20%20%20var%20tile_layer_da7db5ae5d6846a2af562fb74acee024%20%3D%20L.tileLayer%28%0A%20%20%20%20%20%20%20%20%20%20%20%20%20%20%20%20%22https%3A//%7Bs%7D.tile.openstreetmap.org/%7Bz%7D/%7Bx%7D/%7By%7D.png%22%2C%0A%20%20%20%20%20%20%20%20%20%20%20%20%20%20%20%20%7B%22attribution%22%3A%20%22Data%20by%20%5Cu0026copy%3B%20%5Cu003ca%20href%3D%5C%22http%3A//openstreetmap.org%5C%22%5Cu003eOpenStreetMap%5Cu003c/a%5Cu003e%2C%20under%20%5Cu003ca%20href%3D%5C%22http%3A//www.openstreetmap.org/copyright%5C%22%5Cu003eODbL%5Cu003c/a%5Cu003e.%22%2C%20%22detectRetina%22%3A%20false%2C%20%22maxNativeZoom%22%3A%2018%2C%20%22maxZoom%22%3A%2018%2C%20%22minZoom%22%3A%200%2C%20%22noWrap%22%3A%20false%2C%20%22opacity%22%3A%201%2C%20%22subdomains%22%3A%20%22abc%22%2C%20%22tms%22%3A%20false%7D%0A%20%20%20%20%20%20%20%20%20%20%20%20%29.addTo%28map_6f2e4c8ad10141ae854eb9545516bb4e%29%3B%0A%20%20%20%20%20%20%20%20%0A%20%20%20%20%0A%20%20%20%20%20%20%20%20%20%20%20%20map_6f2e4c8ad10141ae854eb9545516bb4e.fitBounds%28%0A%20%20%20%20%20%20%20%20%20%20%20%20%20%20%20%20%5B%5B24.2835%2C%20127.7699%5D%2C%20%5B45.1049%2C%20153.9825%5D%5D%2C%0A%20%20%20%20%20%20%20%20%20%20%20%20%20%20%20%20%7B%7D%0A%20%20%20%20%20%20%20%20%20%20%20%20%29%3B%0A%20%20%20%20%20%20%20%20%0A%20%20%20%20%0A%20%20%20%20%20%20%20%20%20%20%20%20map_6f2e4c8ad10141ae854eb9545516bb4e.fitBounds%28%0A%20%20%20%20%20%20%20%20%20%20%20%20%20%20%20%20%5B%5B24.2835%2C%20127.7699%5D%2C%20%5B45.1049%2C%20153.9825%5D%5D%2C%0A%20%20%20%20%20%20%20%20%20%20%20%20%20%20%20%20%7B%7D%0A%20%20%20%20%20%20%20%20%20%20%20%20%29%3B%0A%20%20%20%20%20%20%20%20%0A%20%20%20%20%0A%20%20%20%20%20%20%20%20%20%20%20%20map_6f2e4c8ad10141ae854eb9545516bb4e.fitBounds%28%0A%20%20%20%20%20%20%20%20%20%20%20%20%20%20%20%20%5B%5B24.2835%2C%20127.7699%5D%2C%20%5B45.1049%2C%20153.9825%5D%5D%2C%0A%20%20%20%20%20%20%20%20%20%20%20%20%20%20%20%20%7B%7D%0A%20%20%20%20%20%20%20%20%20%20%20%20%29%3B%0A%20%20%20%20%20%20%20%20%0A%20%20%20%20%0A%20%20%20%20%20%20%20%20%20%20%20%20map_6f2e4c8ad10141ae854eb9545516bb4e.fitBounds%28%0A%20%20%20%20%20%20%20%20%20%20%20%20%20%20%20%20%5B%5B24.2835%2C%20127.7699%5D%2C%20%5B45.1049%2C%20153.9825%5D%5D%2C%0A%20%20%20%20%20%20%20%20%20%20%20%20%20%20%20%20%7B%7D%0A%20%20%20%20%20%20%20%20%20%20%20%20%29%3B%0A%20%20%20%20%20%20%20%20%0A%20%20%20%20%0A%20%20%20%20%20%20%20%20%20%20%20%20map_6f2e4c8ad10141ae854eb9545516bb4e.fitBounds%28%0A%20%20%20%20%20%20%20%20%20%20%20%20%20%20%20%20%5B%5B45.1049%2C%20153.9825%5D%2C%20%5B24.2835%2C%20127.7699%5D%5D%2C%0A%20%20%20%20%20%20%20%20%20%20%20%20%20%20%20%20%7B%7D%0A%20%20%20%20%20%20%20%20%20%20%20%20%29%3B%0A%20%20%20%20%20%20%20%20%0A%20%20%20%20%0A%20%20%20%20%20%20%20%20%20%20%20%20map_6f2e4c8ad10141ae854eb9545516bb4e.fitBounds%28%0A%20%20%20%20%20%20%20%20%20%20%20%20%20%20%20%20%5B%5B24.2835%2C%20127.7699%5D%2C%20%5B45.1049%2C%20153.9825%5D%5D%2C%0A%20%20%20%20%20%20%20%20%20%20%20%20%20%20%20%20%7B%7D%0A%20%20%20%20%20%20%20%20%20%20%20%20%29%3B%0A%20%20%20%20%20%20%20%20%0A%3C/script%3E onload=\"this.contentDocument.open();this.contentDocument.write(    decodeURIComponent(this.getAttribute('data-html')));this.contentDocument.close();\" allowfullscreen webkitallowfullscreen mozallowfullscreen></iframe></div></div>"
      ],
      "text/plain": [
       "<folium.folium.Map at 0x1fa1387f4f0>"
      ]
     },
     "execution_count": 185,
     "metadata": {},
     "output_type": "execute_result"
    }
   ],
   "source": [
    "\n"
   ]
  },
  {
   "cell_type": "code",
   "execution_count": null,
   "id": "foreign-tractor",
   "metadata": {},
   "outputs": [],
   "source": []
  }
 ],
 "metadata": {
  "kernelspec": {
   "display_name": "Python 3",
   "language": "python",
   "name": "python3"
  },
  "language_info": {
   "codemirror_mode": {
    "name": "ipython",
    "version": 3
   },
   "file_extension": ".py",
   "mimetype": "text/x-python",
   "name": "python",
   "nbconvert_exporter": "python",
   "pygments_lexer": "ipython3",
   "version": "3.8.5"
  }
 },
 "nbformat": 4,
 "nbformat_minor": 5
}
